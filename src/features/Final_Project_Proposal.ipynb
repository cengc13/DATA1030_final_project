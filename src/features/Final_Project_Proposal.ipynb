{
 "cells": [
  {
   "cell_type": "markdown",
   "metadata": {},
   "source": [
    "### Course: *DATA 1030* {-}"
   ]
  },
  {
   "cell_type": "markdown",
   "metadata": {},
   "source": [
    "### Author: *Cheng Zeng* {-}"
   ]
  },
  {
   "cell_type": "markdown",
   "metadata": {},
   "source": [
    "--------------------------------------------------------------------------------------------------------------"
   ]
  },
  {
   "cell_type": "markdown",
   "metadata": {},
   "source": [
    "### Project description {-}"
   ]
  },
  {
   "cell_type": "markdown",
   "metadata": {},
   "source": [
    "The final project lives on the github (see [final project repo](https://github.com/cengc13/DATA1030_final_project)). The directory structure looks like this\n",
    "```\n",
    ".\n",
    "├── data\n",
    "│   ├── processed\n",
    "│   └── raw\n",
    "├── figures\n",
    "├── models\n",
    "├── proposal\n",
    "│   └── refs\n",
    "├── reports\n",
    "└── src\n",
    "    ├── features\n",
    "    ├── models\n",
    "    └── visualization\n",
    "```\n",
    "It aims to solve a regression problem. Given several features of a building, we hope to find a regression model which can predict the energy efficiency of it. The energy efficiency are described by two target variables names *heating load* and *cooling load*. It is important because it could help to design more environemntally friendly buildings from the theoretical perspective.  Real-life energy efficiency experiments of buidings could be both time and effort consuming. "
   ]
  },
  {
   "cell_type": "markdown",
   "metadata": {},
   "source": [
    "### Questions to be answered  {-}"
   ]
  },
  {
   "cell_type": "markdown",
   "metadata": {},
   "source": [
    "* Regression questions \n",
    "    - Predict the heating load and cooling load of the building \n",
    "    - Estimate the importance of the features \n",
    "\n",
    "* Classification quesitons \n",
    "    - Convert the output variables into a high-level concept such as low-, medium- and high-enregy efficiency and predict what kind of buildings can be classified into certain groups. \n",
    "    \n",
    "* Unsupervised quesitons \n",
    "    - Using the first nine features and group them into the similar buildings and test if buildings in the same cluster also performs similarly on the $10$ attribute \n",
    "    "
   ]
  },
  {
   "cell_type": "markdown",
   "metadata": {},
   "source": [
    "\\newpage"
   ]
  },
  {
   "cell_type": "markdown",
   "metadata": {},
   "source": [
    "### Dataset {-}"
   ]
  },
  {
   "cell_type": "markdown",
   "metadata": {},
   "source": [
    "The dataset if from [UCI energy efficiency](https://archive.ics.uci.edu/ml/datasets/Energy+efficiency). In this dataset, $\\mathbf{768}$ simulation points are provided. $\\mathbf{10}$ **numerical  attributes** are used to represent the main features of each building. "
   ]
  },
  {
   "cell_type": "markdown",
   "metadata": {},
   "source": [
    "#### Two related public projects  {-}\n",
    "\n"
   ]
  },
  {
   "cell_type": "markdown",
   "metadata": {},
   "source": [
    "1. The first project related to the dataset is described in this work https://www.sciencedirect.com/science/article/pii/S037877881200151X. They collected the data by computational simulation of buildings which are assumed to be in Athens, Greece. Classical linear regression model is compared to a non-parametric non-linear model, random forest, to estimate and predict the heating and cooling loadings of the buildings.  \n",
    "\n",
    "2. The second project lives in https://doi.org/10.1016/j.enbuild.2014.07.036, in which artificial neural network, support vector regression and ensemble inference models are employed and it concludes that the ensemble model displays superior performance than other existing models for this dataset. "
   ]
  },
  {
   "cell_type": "markdown",
   "metadata": {},
   "source": [
    "#### Attribute description  {-}"
   ]
  },
  {
   "cell_type": "markdown",
   "metadata": {},
   "source": [
    "Of the $10$ attributes, $\\mathbf{8}$ attributes serve as the dependent variables and the other $\\mathbf{2}$ are response variables to be predicted. In the following table the $10$ features of the buildings, the number of possible values and the units/description are detailed. \n",
    "\n",
    "|Mathematical symbols | Attribute | # possible values | units/description | \n",
    "|:----:|:---:|:---:|:---:|\n",
    "|X1|Relative compactness |12| absolute unit| \n",
    "|X2|Surface area |12| $m^2$ | \n",
    "|X3|Wall area |7| $m^2$ | \n",
    "|X4|Roof area |4| $m^2$ | \n",
    "|X5|Overall height |2| $m$ | \n",
    "|X6|Orientation |4| 2:North, 3:East, 4:South, 5:West | \n",
    "|X7|Glazing area |4| 0%, 10%, 25%, 40% (of floor area) |\n",
    "|X8|Glazing area distribution|5| 0:Unknow, 1:Uniform, 2:North, 3:East, 4:South, 5:West |\n",
    "|Y1|Heating load|586|  kWh/m² |\n",
    "|Y2|Cooling load|636|  kWh/m² |\n",
    "\n",
    "To make it more clear, the meaning of target values are elaborated. \n",
    "* heating load: the amount of heat energy that would need to be added to a space to maintain the temperature in an acceptable range.\n",
    "* cooling load: the amount of heat energy that would need to be removed from a space (cooling) to maintain the temperature in an acceptable range.\n",
    "\n",
    "For the mathematical convention, $X$ is used to denote the input variables and $y$ is for output variables.\n",
    "One thing to be noted it that it is not a real-life dataset. It comes from building simulations. "
   ]
  },
  {
   "cell_type": "markdown",
   "metadata": {},
   "source": [
    "The histograms of the ten attributes are shown in the plot \n",
    "![histograms](features_histogram.png)"
   ]
  },
  {
   "cell_type": "markdown",
   "metadata": {},
   "source": [
    "\\newpage"
   ]
  },
  {
   "cell_type": "markdown",
   "metadata": {},
   "source": [
    "### Dataset preprocessing  {-}"
   ]
  },
  {
   "cell_type": "markdown",
   "metadata": {},
   "source": [
    "The values in the original dataset are all numerical. It can be as it is for learning a regresssion model. However, if one needs to do the classification, features such as **orientation (X6)**, **glazing area (X7)** and **glazing area distribution (X8)** need to be converted to categorical features.\n",
    "\n",
    "As of now, we will do the preprocessing for the regression problem and classification problem, respectively. The current preprocessing is evaluated on all the dataset. \n",
    "\n",
    "In the next steps the dataset will be splited to training, cross-validation and testing set."
   ]
  },
  {
   "cell_type": "markdown",
   "metadata": {},
   "source": [
    "The jupyter notebook for proprocessing and the resulting preprocessed dataset is in the folder \"./data/processed\". \n",
    "\n",
    "* The dataset for regression problem is named \"df_preprocessed_regression.csv\" \n",
    "* The dataset for classification problem corresponds to \"df_preprocessed_classification.csv\""
   ]
  },
  {
   "cell_type": "markdown",
   "metadata": {},
   "source": [
    "In terms of the regression problem, from the histograms one can see that all the numerical values are bounded. Therefore the `MinMaxScaler` scaler is used for all the features. The preprocessed dataset still has ten features."
   ]
  },
  {
   "cell_type": "markdown",
   "metadata": {},
   "source": [
    "In regard to the classification problem, since the attributes **orientation**, **glazing area** and **glazing area distribution** cannot be ordered, `OneHotEncoder` is applied. In terms of the other $5$ exactly numerical attributes, `MinMaxScaler` is employed. The two output variables are firstly transformed to two group of classes ('low efficiency' and 'high efficiency') using the mean values of the dataset as the criterion, then they are proprocessed with `LabelEncoder`. The preprocessed data in total has $\\mathbf{18}$ features."
   ]
  }
 ],
 "metadata": {
  "kernel_info": {
   "name": "python3"
  },
  "kernelspec": {
   "display_name": "Python 3",
   "language": "python",
   "name": "python3"
  },
  "language_info": {
   "codemirror_mode": {
    "name": "ipython",
    "version": 3
   },
   "file_extension": ".py",
   "mimetype": "text/x-python",
   "name": "python",
   "nbconvert_exporter": "python",
   "pygments_lexer": "ipython3",
   "version": "3.5.2"
  },
  "nteract": {
   "version": "0.15.0"
  }
 },
 "nbformat": 4,
 "nbformat_minor": 2
}
