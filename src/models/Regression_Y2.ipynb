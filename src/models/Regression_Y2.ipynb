{
 "cells": [
  {
   "cell_type": "code",
   "execution_count": 1,
   "metadata": {},
   "outputs": [],
   "source": [
    "import pandas as pd\n",
    "import numpy as np\n",
    "from sklearn.model_selection import train_test_split, GridSearchCV\n",
    "from sklearn.model_selection import KFold\n",
    "from sklearn.preprocessing import OneHotEncoder, MinMaxScaler\n",
    "from sklearn.pipeline import make_pipeline, Pipeline\n",
    "from sklearn.compose import ColumnTransformer\n",
    "from sklearn.metrics import make_scorer, mean_squared_error, r2_score"
   ]
  },
  {
   "cell_type": "code",
   "execution_count": 2,
   "metadata": {},
   "outputs": [],
   "source": [
    "file = \"../../data/raw/ENB2012_data.csv\"\n",
    "df = pd.read_csv(file)\n",
    "X = df.drop(columns=['Y1', 'Y2'], axis=1)\n",
    "y1 = df['Y1']\n",
    "y2 = df['Y2']"
   ]
  },
  {
   "cell_type": "code",
   "execution_count": 3,
   "metadata": {},
   "outputs": [],
   "source": [
    "cat_ftrs = ['X6','X8']\n",
    "num_ftrs = ['X1','X2','X3','X4','X5','X7']\n",
    "target_ftrs = ['Y1', 'Y2']\n",
    "\n",
    "## MinMaxScaler for num_ftrs\n",
    "scaler = MinMaxScaler()\n",
    "num_transformer = make_pipeline(scaler)\n",
    "## One-hot encoding for cat_ftrs\n",
    "ohe = OneHotEncoder(sparse=False, categories=\"auto\")\n",
    "cat_transformer = make_pipeline(ohe)\n",
    "\n",
    "## Create a preprocessor\n",
    "preprocessor = ColumnTransformer(transformers=[\n",
    "    ('num', num_transformer, num_ftrs),\n",
    "    ('cat', cat_transformer, cat_ftrs)\n",
    "])"
   ]
  },
  {
   "cell_type": "code",
   "execution_count": 4,
   "metadata": {},
   "outputs": [],
   "source": [
    "def ML_pipeline_GridSearchCV_kfold(X, y, seed, n_folds, \n",
    "                                 reg, param_grid):\n",
    "    ## reg: the regressor\n",
    "    ## param_grid: hyperparameters to be tuned\n",
    "    X_other, X_test, y_other, y_test = train_test_split(X, y, \n",
    "                   test_size=0.2, random_state=seed)\n",
    "    kf = KFold(n_splits=n_folds) # no need to shuffle again\n",
    "    pipe = Pipeline(steps=[('preprocessor', preprocessor),\n",
    "                            ('regressor', reg)])\n",
    "    grid = GridSearchCV(pipe, param_grid=param_grid,\n",
    "                        cv=kf, iid=False, scoring=\\\n",
    "#         make_scorer(r2_score))\n",
    "        make_scorer(mean_squared_error, greater_is_better=False))\n",
    "    grid.fit(X_other, y_other)\n",
    "    return grid, grid.score(X_test, y_test)"
   ]
  },
  {
   "cell_type": "markdown",
   "metadata": {},
   "source": [
    "### Lasso linear regression"
   ]
  },
  {
   "cell_type": "code",
   "execution_count": 5,
   "metadata": {},
   "outputs": [],
   "source": [
    "from sklearn.linear_model import Lasso"
   ]
  },
  {
   "cell_type": "code",
   "execution_count": 6,
   "metadata": {},
   "outputs": [],
   "source": [
    "lasso = Lasso(max_iter=10000)\n",
    "param_grid = {'regressor__alpha': np.logspace(-4, 2, 11)}\n",
    "best_scores = []\n",
    "best_params = []\n",
    "for i in range(10):\n",
    "    grid, test_score = ML_pipeline_GridSearchCV_kfold(X, y2, \n",
    "          seed=42*i, n_folds=5, reg=lasso, param_grid=param_grid)\n",
    "    best_scores.append(test_score)\n",
    "    best_params.append(grid.best_params_)"
   ]
  },
  {
   "cell_type": "code",
   "execution_count": 7,
   "metadata": {},
   "outputs": [
    {
     "name": "stdout",
     "output_type": "stream",
     "text": [
      "Mean of the best score is 10.044.\n",
      "std of the best score is 1.183.\n"
     ]
    }
   ],
   "source": [
    "print(\"Mean of the best score is %.3f.\" % -np.mean(best_scores))\n",
    "print(\"std of the best score is %.3f.\" % np.std(best_scores))"
   ]
  },
  {
   "cell_type": "code",
   "execution_count": 8,
   "metadata": {},
   "outputs": [
    {
     "data": {
      "text/plain": [
       "[{'regressor__alpha': 0.00039810717055349735},\n",
       " {'regressor__alpha': 0.00039810717055349735},\n",
       " {'regressor__alpha': 0.00039810717055349735},\n",
       " {'regressor__alpha': 0.0001},\n",
       " {'regressor__alpha': 0.00039810717055349735},\n",
       " {'regressor__alpha': 0.00039810717055349735},\n",
       " {'regressor__alpha': 0.00039810717055349735},\n",
       " {'regressor__alpha': 0.00039810717055349735},\n",
       " {'regressor__alpha': 0.0001},\n",
       " {'regressor__alpha': 0.00039810717055349735}]"
      ]
     },
     "execution_count": 8,
     "metadata": {},
     "output_type": "execute_result"
    }
   ],
   "source": [
    "best_params"
   ]
  },
  {
   "cell_type": "markdown",
   "metadata": {},
   "source": [
    "### RandomForest regression"
   ]
  },
  {
   "cell_type": "code",
   "execution_count": 9,
   "metadata": {},
   "outputs": [],
   "source": [
    "from sklearn.ensemble import RandomForestRegressor"
   ]
  },
  {
   "cell_type": "code",
   "execution_count": 26,
   "metadata": {},
   "outputs": [],
   "source": [
    "rfr = RandomForestRegressor(random_state=0, n_estimators=20)\n",
    "max_depths = [int(x) for x in np.linspace(2, 50, num=10)]\n",
    "min_samples_splits = range(2, 12, 2)\n",
    "param_grid = { \"regressor__max_depth\" : max_depths, \n",
    "               \"regressor__min_samples_split\" : min_samples_splits }"
   ]
  },
  {
   "cell_type": "code",
   "execution_count": 27,
   "metadata": {},
   "outputs": [],
   "source": [
    "best_scores = []\n",
    "best_params = []\n",
    "for i in range(10):\n",
    "    grid, test_score = ML_pipeline_GridSearchCV_kfold(X, y2, \n",
    "          seed=42*i, n_folds=5, reg=rfr, param_grid=param_grid)\n",
    "    best_scores.append(test_score)\n",
    "    best_params.append(grid.best_params_)"
   ]
  },
  {
   "cell_type": "code",
   "execution_count": 28,
   "metadata": {},
   "outputs": [
    {
     "name": "stdout",
     "output_type": "stream",
     "text": [
      "Mean of the best score is 3.340.\n",
      "std of the best score is 0.442.\n"
     ]
    }
   ],
   "source": [
    "print(\"Mean of the best score is %.3f.\" % -np.mean(best_scores))\n",
    "print(\"std of the best score is %.3f.\" % np.std(best_scores))"
   ]
  },
  {
   "cell_type": "code",
   "execution_count": 29,
   "metadata": {},
   "outputs": [
    {
     "data": {
      "text/plain": [
       "[{'regressor__max_depth': 7, 'regressor__min_samples_split': 10},\n",
       " {'regressor__max_depth': 7, 'regressor__min_samples_split': 2},\n",
       " {'regressor__max_depth': 7, 'regressor__min_samples_split': 10},\n",
       " {'regressor__max_depth': 7, 'regressor__min_samples_split': 10},\n",
       " {'regressor__max_depth': 7, 'regressor__min_samples_split': 2},\n",
       " {'regressor__max_depth': 7, 'regressor__min_samples_split': 10},\n",
       " {'regressor__max_depth': 7, 'regressor__min_samples_split': 10},\n",
       " {'regressor__max_depth': 7, 'regressor__min_samples_split': 10},\n",
       " {'regressor__max_depth': 7, 'regressor__min_samples_split': 10},\n",
       " {'regressor__max_depth': 7, 'regressor__min_samples_split': 4}]"
      ]
     },
     "execution_count": 29,
     "metadata": {},
     "output_type": "execute_result"
    }
   ],
   "source": [
    "best_params"
   ]
  },
  {
   "cell_type": "code",
   "execution_count": 14,
   "metadata": {},
   "outputs": [
    {
     "data": {
      "text/plain": [
       "array([0.36583976, 0.32483374, 0.04165945, 0.04445223, 0.16268616,\n",
       "       0.04542173, 0.00069304, 0.00170358, 0.00136328, 0.0025463 ,\n",
       "       0.003376  , 0.0007576 , 0.00047545, 0.00132742, 0.00163048,\n",
       "       0.00123379])"
      ]
     },
     "execution_count": 14,
     "metadata": {},
     "output_type": "execute_result"
    }
   ],
   "source": [
    "importance = grid.best_estimator_.named_steps[\"regressor\"].\\\n",
    "feature_importances_\n",
    "importance"
   ]
  },
  {
   "cell_type": "markdown",
   "metadata": {},
   "source": [
    "### Support vector regression"
   ]
  },
  {
   "cell_type": "code",
   "execution_count": 15,
   "metadata": {},
   "outputs": [],
   "source": [
    "from sklearn.svm import SVR"
   ]
  },
  {
   "cell_type": "code",
   "execution_count": 16,
   "metadata": {},
   "outputs": [],
   "source": [
    "svr = SVR(epsilon=0.2)\n",
    "gammas = np.logspace(-3, 2, num=4)\n",
    "Cs = np.logspace(0, 3, num=4)\n",
    "# kernels = ['rbf', 'linear']\n",
    "param_grid = { \"regressor__gamma\" : gammas, \n",
    "               \"regressor__C\" : Cs,}\n",
    "#                 \"regressor__kernel\": kernels}"
   ]
  },
  {
   "cell_type": "code",
   "execution_count": 17,
   "metadata": {},
   "outputs": [],
   "source": [
    "best_scores = []\n",
    "best_params = []\n",
    "for i in range(10):\n",
    "    grid, test_score = ML_pipeline_GridSearchCV_kfold(X, y1, \n",
    "          seed=42*i, n_folds=5, reg=svr, param_grid=param_grid)\n",
    "    best_scores.append(test_score)\n",
    "    best_params.append(grid.best_params_)"
   ]
  },
  {
   "cell_type": "code",
   "execution_count": 18,
   "metadata": {},
   "outputs": [
    {
     "name": "stdout",
     "output_type": "stream",
     "text": [
      "Mean of the best score is 6.650.\n",
      "std of the best score is 0.693.\n"
     ]
    }
   ],
   "source": [
    "print(\"Mean of the best score is %.3f.\" % -np.mean(best_scores))\n",
    "print(\"std of the best score is %.3f.\" % np.std(best_scores))"
   ]
  },
  {
   "cell_type": "code",
   "execution_count": 19,
   "metadata": {},
   "outputs": [
    {
     "data": {
      "text/plain": [
       "[{'regressor__C': 1000.0, 'regressor__gamma': 0.046415888336127795},\n",
       " {'regressor__C': 1000.0, 'regressor__gamma': 0.046415888336127795},\n",
       " {'regressor__C': 1000.0, 'regressor__gamma': 0.046415888336127795},\n",
       " {'regressor__C': 1000.0, 'regressor__gamma': 0.046415888336127795},\n",
       " {'regressor__C': 1000.0, 'regressor__gamma': 0.046415888336127795},\n",
       " {'regressor__C': 1000.0, 'regressor__gamma': 0.046415888336127795},\n",
       " {'regressor__C': 1000.0, 'regressor__gamma': 0.046415888336127795},\n",
       " {'regressor__C': 1000.0, 'regressor__gamma': 0.046415888336127795},\n",
       " {'regressor__C': 1000.0, 'regressor__gamma': 0.046415888336127795},\n",
       " {'regressor__C': 1000.0, 'regressor__gamma': 0.046415888336127795}]"
      ]
     },
     "execution_count": 19,
     "metadata": {},
     "output_type": "execute_result"
    }
   ],
   "source": [
    "best_params"
   ]
  },
  {
   "cell_type": "markdown",
   "metadata": {},
   "source": [
    "### Kernel ridge regression"
   ]
  },
  {
   "cell_type": "code",
   "execution_count": 20,
   "metadata": {},
   "outputs": [],
   "source": [
    "# from sklearn.kernel_ridge import KernelRidge\n",
    "\n",
    "# krr = KernelRidge()\n",
    "# gammas = np.logspace(-3,2, num=5)\n",
    "# alphas = np.logspace(-2,3, num=4)\n",
    "# param_grid = { \"regressor__gamma\" : gammas, \n",
    "#                \"regressor__alpha\" : alphas}\n",
    "\n",
    "# best_scores = []\n",
    "# best_params = []\n",
    "# for i in range(1):\n",
    "#     grid, test_score = ML_pipeline_GridSearchCV_kfold(X, y1, \n",
    "#           seed=42*i, n_folds=10, reg=krr, param_grid=param_grid)\n",
    "#     best_scores.append(test_score)\n",
    "#     best_params.append(grid.best_params_)\n",
    "\n",
    "# best_scores\n",
    "\n",
    "# best_params"
   ]
  },
  {
   "cell_type": "markdown",
   "metadata": {},
   "source": [
    "### Multilayer Perceptron regression"
   ]
  },
  {
   "cell_type": "code",
   "execution_count": 21,
   "metadata": {},
   "outputs": [],
   "source": [
    "from sklearn.neural_network import MLPRegressor"
   ]
  },
  {
   "cell_type": "code",
   "execution_count": 22,
   "metadata": {},
   "outputs": [],
   "source": [
    "nnr = MLPRegressor(max_iter=10000,solver='sgd', \n",
    "                   activation='tanh', batch_size=100,\n",
    "                   learning_rate='adaptive',\n",
    "                   random_state=42, hidden_layer_sizes=[10,10])\n",
    "# alphas = np.logspace(-3, 2, num=5)\n",
    "alphas = [0.0001]\n",
    "# # hls = [[10,10], [15,15], [20,20]]\n",
    "hls = [[10,10]]\n",
    "param_grid = { \"regressor__alpha\" : alphas, \n",
    "               \"regressor__hidden_layer_sizes\" : hls}"
   ]
  },
  {
   "cell_type": "code",
   "execution_count": 23,
   "metadata": {},
   "outputs": [],
   "source": [
    "best_scores = []\n",
    "best_params = []\n",
    "for i in range(10):\n",
    "    grid, test_score = ML_pipeline_GridSearchCV_kfold(X, y1, \n",
    "          seed=42*i, n_folds=5, reg=nnr, param_grid=param_grid)\n",
    "    best_scores.append(test_score)\n",
    "    best_params.append(grid.best_params_)"
   ]
  },
  {
   "cell_type": "code",
   "execution_count": 24,
   "metadata": {},
   "outputs": [
    {
     "name": "stdout",
     "output_type": "stream",
     "text": [
      "Mean of the best score is 0.344.\n",
      "std of the best score is 0.071.\n"
     ]
    }
   ],
   "source": [
    "print(\"Mean of the best score is %.3f.\" % -np.mean(best_scores))\n",
    "print(\"std of the best score is %.3f.\" % np.std(best_scores))"
   ]
  },
  {
   "cell_type": "code",
   "execution_count": 25,
   "metadata": {},
   "outputs": [
    {
     "data": {
      "text/plain": [
       "[{'regressor__alpha': 0.0001, 'regressor__hidden_layer_sizes': [10, 10]},\n",
       " {'regressor__alpha': 0.0001, 'regressor__hidden_layer_sizes': [10, 10]},\n",
       " {'regressor__alpha': 0.0001, 'regressor__hidden_layer_sizes': [10, 10]},\n",
       " {'regressor__alpha': 0.0001, 'regressor__hidden_layer_sizes': [10, 10]},\n",
       " {'regressor__alpha': 0.0001, 'regressor__hidden_layer_sizes': [10, 10]},\n",
       " {'regressor__alpha': 0.0001, 'regressor__hidden_layer_sizes': [10, 10]},\n",
       " {'regressor__alpha': 0.0001, 'regressor__hidden_layer_sizes': [10, 10]},\n",
       " {'regressor__alpha': 0.0001, 'regressor__hidden_layer_sizes': [10, 10]},\n",
       " {'regressor__alpha': 0.0001, 'regressor__hidden_layer_sizes': [10, 10]},\n",
       " {'regressor__alpha': 0.0001, 'regressor__hidden_layer_sizes': [10, 10]}]"
      ]
     },
     "execution_count": 25,
     "metadata": {},
     "output_type": "execute_result"
    }
   ],
   "source": [
    "best_params"
   ]
  },
  {
   "cell_type": "markdown",
   "metadata": {},
   "source": [
    "### Global feature importance"
   ]
  },
  {
   "cell_type": "code",
   "execution_count": null,
   "metadata": {},
   "outputs": [],
   "source": []
  }
 ],
 "metadata": {
  "kernelspec": {
   "display_name": "Python 3",
   "language": "python",
   "name": "python3"
  },
  "language_info": {
   "codemirror_mode": {
    "name": "ipython",
    "version": 3
   },
   "file_extension": ".py",
   "mimetype": "text/x-python",
   "name": "python",
   "nbconvert_exporter": "python",
   "pygments_lexer": "ipython3",
   "version": "3.6.5"
  }
 },
 "nbformat": 4,
 "nbformat_minor": 2
}
