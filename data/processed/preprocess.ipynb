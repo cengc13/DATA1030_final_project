{
 "cells": [
  {
   "cell_type": "code",
   "execution_count": 3,
   "metadata": {},
   "outputs": [],
   "source": [
    "# Since all the continues features are bounded in certain range, we use the MinMaxScaler for the features to\n",
    "# be proprocessed. Note that the values of feature \"X1\" and \"X7\" are already in the range of [0,1]\n",
    "# no proprocessing is needed for these two featurs. \n",
    "import pandas as pd\n",
    "from sklearn.preprocessing import MinMaxScaler, StandardScaler\n",
    "\n",
    "df = pd.read_csv(\"../raw/ENB2012_data.csv\")\n",
    "minmax_scaler = MinMaxScaler()\n",
    "columns_minmax = ['X1','X2','X3','X4','X5','X6','X7', 'X8','Y1','Y2']\n",
    "minmax_scaler.fit(df[columns_minmax])\n",
    "df[columns_minmax] = minmax_scaler.transform(df[columns_minmax])\n",
    "df.head()\n",
    "df.to_csv(\"df_preprocessed_regression.csv\")"
   ]
  },
  {
   "cell_type": "code",
   "execution_count": 24,
   "metadata": {},
   "outputs": [
    {
     "data": {
      "text/html": [
       "<div>\n",
       "<style scoped>\n",
       "    .dataframe tbody tr th:only-of-type {\n",
       "        vertical-align: middle;\n",
       "    }\n",
       "\n",
       "    .dataframe tbody tr th {\n",
       "        vertical-align: top;\n",
       "    }\n",
       "\n",
       "    .dataframe thead th {\n",
       "        text-align: right;\n",
       "    }\n",
       "</style>\n",
       "<table border=\"1\" class=\"dataframe\">\n",
       "  <thead>\n",
       "    <tr style=\"text-align: right;\">\n",
       "      <th></th>\n",
       "      <th>X1</th>\n",
       "      <th>X2</th>\n",
       "      <th>X3</th>\n",
       "      <th>X4</th>\n",
       "      <th>X5</th>\n",
       "      <th>X6</th>\n",
       "      <th>X7</th>\n",
       "      <th>X8</th>\n",
       "      <th>Y1</th>\n",
       "      <th>Y2</th>\n",
       "    </tr>\n",
       "  </thead>\n",
       "  <tbody>\n",
       "    <tr>\n",
       "      <th>0</th>\n",
       "      <td>0.98</td>\n",
       "      <td>514.5</td>\n",
       "      <td>294.0</td>\n",
       "      <td>110.25</td>\n",
       "      <td>7.0</td>\n",
       "      <td>2</td>\n",
       "      <td>0.0</td>\n",
       "      <td>0</td>\n",
       "      <td>high</td>\n",
       "      <td>high</td>\n",
       "    </tr>\n",
       "    <tr>\n",
       "      <th>1</th>\n",
       "      <td>0.98</td>\n",
       "      <td>514.5</td>\n",
       "      <td>294.0</td>\n",
       "      <td>110.25</td>\n",
       "      <td>7.0</td>\n",
       "      <td>3</td>\n",
       "      <td>0.0</td>\n",
       "      <td>0</td>\n",
       "      <td>high</td>\n",
       "      <td>high</td>\n",
       "    </tr>\n",
       "    <tr>\n",
       "      <th>2</th>\n",
       "      <td>0.98</td>\n",
       "      <td>514.5</td>\n",
       "      <td>294.0</td>\n",
       "      <td>110.25</td>\n",
       "      <td>7.0</td>\n",
       "      <td>4</td>\n",
       "      <td>0.0</td>\n",
       "      <td>0</td>\n",
       "      <td>high</td>\n",
       "      <td>high</td>\n",
       "    </tr>\n",
       "    <tr>\n",
       "      <th>3</th>\n",
       "      <td>0.98</td>\n",
       "      <td>514.5</td>\n",
       "      <td>294.0</td>\n",
       "      <td>110.25</td>\n",
       "      <td>7.0</td>\n",
       "      <td>5</td>\n",
       "      <td>0.0</td>\n",
       "      <td>0</td>\n",
       "      <td>high</td>\n",
       "      <td>high</td>\n",
       "    </tr>\n",
       "    <tr>\n",
       "      <th>4</th>\n",
       "      <td>0.90</td>\n",
       "      <td>563.5</td>\n",
       "      <td>318.5</td>\n",
       "      <td>122.50</td>\n",
       "      <td>7.0</td>\n",
       "      <td>2</td>\n",
       "      <td>0.0</td>\n",
       "      <td>0</td>\n",
       "      <td>high</td>\n",
       "      <td>low</td>\n",
       "    </tr>\n",
       "  </tbody>\n",
       "</table>\n",
       "</div>"
      ],
      "text/plain": [
       "     X1     X2     X3      X4   X5  X6   X7  X8    Y1    Y2\n",
       "0  0.98  514.5  294.0  110.25  7.0   2  0.0   0  high  high\n",
       "1  0.98  514.5  294.0  110.25  7.0   3  0.0   0  high  high\n",
       "2  0.98  514.5  294.0  110.25  7.0   4  0.0   0  high  high\n",
       "3  0.98  514.5  294.0  110.25  7.0   5  0.0   0  high  high\n",
       "4  0.90  563.5  318.5  122.50  7.0   2  0.0   0  high   low"
      ]
     },
     "execution_count": 24,
     "metadata": {},
     "output_type": "execute_result"
    }
   ],
   "source": [
    "df = pd.read_csv(\"../raw/ENB2012_data.csv\")\n",
    "y1_mean = df.Y1.mean()\n",
    "y2_mean = df.Y2.mean()\n",
    "# print(y1_mean, y2_mean)\n",
    "# low loading -> high energy efficiency, high loading -> high energy efficiency\n",
    "df['Y1'] = df['Y1'].apply(lambda x: 'high' if x <= y1_mean else 'low')\n",
    "df['Y2'] = df['Y2'].apply(lambda x: 'high' if x <= y2_mean else 'low')\n",
    "# df.loc[df.Y1 <= y1_mean, 'Y1'] = 'high'  # low loading means high energy efficiency\n",
    "df.head()"
   ]
  },
  {
   "cell_type": "code",
   "execution_count": 26,
   "metadata": {},
   "outputs": [
    {
     "name": "stderr",
     "output_type": "stream",
     "text": [
      "/usr/lib64/python3.6/site-packages/sklearn/preprocessing/_encoders.py:415: FutureWarning: The handling of integer data will change in version 0.22. Currently, the categories are determined based on the range [0, max(values)], while in the future they will be determined based on the unique values.\n",
      "If you want the future behaviour and silence this warning, you can specify \"categories='auto'\".\n",
      "In case you used a LabelEncoder before this OneHotEncoder to convert the categories to integers, then you can now use the OneHotEncoder directly.\n",
      "  warnings.warn(msg, FutureWarning)\n"
     ]
    },
    {
     "data": {
      "text/plain": [
       "(768, 18)"
      ]
     },
     "execution_count": 26,
     "metadata": {},
     "output_type": "execute_result"
    }
   ],
   "source": [
    "from sklearn.preprocessing import OneHotEncoder, LabelEncoder\n",
    "cat_ftrs = ['X6','X7', 'X8']\n",
    "num_ftrs = ['X1','X2','X3','X4','X5',]\n",
    "label_ftrs = ['Y1', 'Y2']\n",
    "\n",
    "# one-hot encoder \n",
    "ohe = OneHotEncoder(sparse=False)\n",
    "cat_values = ohe.fit_transform(df[cat_ftrs])\n",
    "cat_ftr_names = ohe.get_feature_names()\n",
    "df_cat = pd.DataFrame(data=cat_values,columns = cat_ftr_names)\n",
    "\n",
    "# minmax scaler\n",
    "minmax = MinMaxScaler()\n",
    "num_values = minmax.fit_transform(df[num_ftrs])\n",
    "df_num = pd.DataFrame(data=num_values,columns = num_ftrs) \n",
    "\n",
    "# label encoder\n",
    "le = LabelEncoder()\n",
    "label_value_heat = le.fit_transform(df['Y1'])\n",
    "label_value_cool = le.fit_transform(df['Y2'])\n",
    "df_label_heat = pd.DataFrame(data=label_value_heat, columns=['Y1'])\n",
    "df_label_cool = pd.DataFrame(data=label_value_cool, columns=['Y2'])\n",
    "\n",
    "# concatenation of all features\n",
    "df_preprocessed = pd.concat([df_cat, df_num, df_label_heat, df_label_cool], axis=1)\n",
    "df_preprocessed.to_csv(\"df_preprocessed_classification.csv\")\n",
    "df_preprocessed.shape"
   ]
  }
 ],
 "metadata": {
  "kernelspec": {
   "display_name": "Python 3",
   "language": "python",
   "name": "python3"
  },
  "language_info": {
   "codemirror_mode": {
    "name": "ipython",
    "version": 3
   },
   "file_extension": ".py",
   "mimetype": "text/x-python",
   "name": "python",
   "nbconvert_exporter": "python",
   "pygments_lexer": "ipython3",
   "version": "3.6.5"
  }
 },
 "nbformat": 4,
 "nbformat_minor": 2
}
