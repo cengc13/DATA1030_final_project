{
 "cells": [
  {
   "cell_type": "markdown",
   "metadata": {},
   "source": [
    "### Course: *DATA 1030* {-}"
   ]
  },
  {
   "cell_type": "markdown",
   "metadata": {},
   "source": [
    "### Author: *Cheng Zeng* {-}"
   ]
  },
  {
   "cell_type": "markdown",
   "metadata": {},
   "source": [
    "--------------------------------------------------------------------------------------------------------------"
   ]
  },
  {
   "cell_type": "markdown",
   "metadata": {},
   "source": [
    "### Project description {-}"
   ]
  },
  {
   "cell_type": "markdown",
   "metadata": {},
   "source": [
    "The final project aims to solve a regression problem. Given several features of a building, we hope to find a regression model which can predict the energy efficiency of it. The energy efficiency are described by two target variables names *heating load* and *cooling load*. It is important because it could help to design more environemntally friendly buildings from the theoretical perspective.  Real-life energy efficiency experiments of buidings could be both time and effort consuming. \n",
    "The final project in the github (see )"
   ]
  },
  {
   "cell_type": "markdown",
   "metadata": {},
   "source": [
    "### Questions to be answered  {-}"
   ]
  },
  {
   "cell_type": "markdown",
   "metadata": {},
   "source": [
    "* Regression questions \n",
    "    - Predict the heating load and cooling load of the building \n",
    "    - Estimate the importance of the features \n",
    "\n",
    "* Classification quesitons \n",
    "    - Convert the output variables into a high-level concept such as low-, medium- and high-enregy efficiency and predict what kind of buildings can be classified into certain groups. \n",
    "    \n",
    "* Unsupervised quesitons \n",
    "    - Using the first nine features and group them into the similar buildings and test if buildings in the same cluster also performs similarly on the $10$ attribute \n",
    "    "
   ]
  },
  {
   "cell_type": "markdown",
   "metadata": {},
   "source": [
    "\\newpage"
   ]
  },
  {
   "cell_type": "markdown",
   "metadata": {},
   "source": [
    "### Dataset {-}"
   ]
  },
  {
   "cell_type": "markdown",
   "metadata": {},
   "source": [
    "The dataset if from [UCI energy efficiency](https://archive.ics.uci.edu/ml/datasets/Energy+efficiency). In this dataset, $\\mathbf{768}$ simulation points are provided. $\\mathbf{10}$ **numerical  attributes** are used to represent the main features of each building. "
   ]
  },
  {
   "cell_type": "markdown",
   "metadata": {},
   "source": [
    "#### Two related public projects  {-}\n",
    "\n"
   ]
  },
  {
   "cell_type": "markdown",
   "metadata": {},
   "source": [
    "1. The first project related to the dataset is described in this work https://www.sciencedirect.com/science/article/pii/S037877881200151X. They collected the data by computational simulation of buildings which are assumed to be in Athens, Greece. Classical linear regression model is compared to a non-parametric non-linear model, random forest, to estimate and predict the heating and cooling loadings of the buildings.  \n",
    "\n",
    "2. The second project lives in https://doi.org/10.1016/j.enbuild.2014.07.036, in which artificial neural network, support vector regression and ensemble inference models are employed and it concludes that the ensemble model displays superior performance than other existing models for this dataset. "
   ]
  },
  {
   "cell_type": "markdown",
   "metadata": {},
   "source": [
    "#### Attribute description  {-}"
   ]
  },
  {
   "cell_type": "markdown",
   "metadata": {},
   "source": [
    "Of the $10$ attributes, $\\mathbf{8}$ attributes serve as the dependent variables and the other $\\mathbf{2}$ are response variables to be predicted. In the following table the $10$ features of the buildings, the number of possible values and the units/description are detailed. \n",
    "\n",
    "|Mathematical symbols | Attribute | # possible values | units/description | \n",
    "|:----:|:---:|:---:|:---:|\n",
    "|X1|Relative compactness |12| absolute unit| \n",
    "|X2|Surface area |12| $m^2$ | \n",
    "|X3|Wall area |7| $m^2$ | \n",
    "|X4|Roof area |4| $m^2$ | \n",
    "|X5|Overall height |2| $m$ | \n",
    "|X6|Orientation |4| 2:North, 3:East, 4:South, 5:West | \n",
    "|X7|Glazing area |4| 0%, 10%, 25%, 40% (of floor area) |\n",
    "|X8|Glazing area distribution|5| 0:Unknow, 1:Uniform, 2:North, 3:East, 4:South, 5:West |\n",
    "|y1|Heating load|586|  kWh/m² |\n",
    "|y2|Cooling load|636|  kWh/m² |\n",
    "\n",
    "For the mathematical convention, $X$ is used to denote the input variables and $y$ is for output variables.\n",
    "One thing to be noted it that it is not a real-life dataset. It comes from building simulations.  For more details of the data, please refer to the original work [energy efficiency analysis paper](https://www.sciencedirect.com/science/article/pii/S037877881200151X)."
   ]
  },
  {
   "cell_type": "code",
   "execution_count": 1,
   "metadata": {},
   "outputs": [
    {
     "name": "stdout",
     "output_type": "stream",
     "text": [
      "(768, 10)\n"
     ]
    },
    {
     "data": {
      "text/html": [
       "<div>\n",
       "<style scoped>\n",
       "    .dataframe tbody tr th:only-of-type {\n",
       "        vertical-align: middle;\n",
       "    }\n",
       "\n",
       "    .dataframe tbody tr th {\n",
       "        vertical-align: top;\n",
       "    }\n",
       "\n",
       "    .dataframe thead th {\n",
       "        text-align: right;\n",
       "    }\n",
       "</style>\n",
       "<table border=\"1\" class=\"dataframe\">\n",
       "  <thead>\n",
       "    <tr style=\"text-align: right;\">\n",
       "      <th></th>\n",
       "      <th>X1</th>\n",
       "      <th>X2</th>\n",
       "      <th>X3</th>\n",
       "      <th>X4</th>\n",
       "      <th>X5</th>\n",
       "      <th>X6</th>\n",
       "      <th>X7</th>\n",
       "      <th>X8</th>\n",
       "      <th>Y1</th>\n",
       "      <th>Y2</th>\n",
       "    </tr>\n",
       "  </thead>\n",
       "  <tbody>\n",
       "    <tr>\n",
       "      <th>0</th>\n",
       "      <td>0.98</td>\n",
       "      <td>514.5</td>\n",
       "      <td>294.0</td>\n",
       "      <td>110.25</td>\n",
       "      <td>7.0</td>\n",
       "      <td>2</td>\n",
       "      <td>0.0</td>\n",
       "      <td>0</td>\n",
       "      <td>15.55</td>\n",
       "      <td>21.33</td>\n",
       "    </tr>\n",
       "    <tr>\n",
       "      <th>1</th>\n",
       "      <td>0.98</td>\n",
       "      <td>514.5</td>\n",
       "      <td>294.0</td>\n",
       "      <td>110.25</td>\n",
       "      <td>7.0</td>\n",
       "      <td>3</td>\n",
       "      <td>0.0</td>\n",
       "      <td>0</td>\n",
       "      <td>15.55</td>\n",
       "      <td>21.33</td>\n",
       "    </tr>\n",
       "    <tr>\n",
       "      <th>2</th>\n",
       "      <td>0.98</td>\n",
       "      <td>514.5</td>\n",
       "      <td>294.0</td>\n",
       "      <td>110.25</td>\n",
       "      <td>7.0</td>\n",
       "      <td>4</td>\n",
       "      <td>0.0</td>\n",
       "      <td>0</td>\n",
       "      <td>15.55</td>\n",
       "      <td>21.33</td>\n",
       "    </tr>\n",
       "    <tr>\n",
       "      <th>3</th>\n",
       "      <td>0.98</td>\n",
       "      <td>514.5</td>\n",
       "      <td>294.0</td>\n",
       "      <td>110.25</td>\n",
       "      <td>7.0</td>\n",
       "      <td>5</td>\n",
       "      <td>0.0</td>\n",
       "      <td>0</td>\n",
       "      <td>15.55</td>\n",
       "      <td>21.33</td>\n",
       "    </tr>\n",
       "    <tr>\n",
       "      <th>4</th>\n",
       "      <td>0.90</td>\n",
       "      <td>563.5</td>\n",
       "      <td>318.5</td>\n",
       "      <td>122.50</td>\n",
       "      <td>7.0</td>\n",
       "      <td>2</td>\n",
       "      <td>0.0</td>\n",
       "      <td>0</td>\n",
       "      <td>20.84</td>\n",
       "      <td>28.28</td>\n",
       "    </tr>\n",
       "  </tbody>\n",
       "</table>\n",
       "</div>"
      ],
      "text/plain": [
       "     X1     X2     X3      X4   X5  X6   X7  X8     Y1     Y2\n",
       "0  0.98  514.5  294.0  110.25  7.0   2  0.0   0  15.55  21.33\n",
       "1  0.98  514.5  294.0  110.25  7.0   3  0.0   0  15.55  21.33\n",
       "2  0.98  514.5  294.0  110.25  7.0   4  0.0   0  15.55  21.33\n",
       "3  0.98  514.5  294.0  110.25  7.0   5  0.0   0  15.55  21.33\n",
       "4  0.90  563.5  318.5  122.50  7.0   2  0.0   0  20.84  28.28"
      ]
     },
     "execution_count": 1,
     "metadata": {},
     "output_type": "execute_result"
    }
   ],
   "source": [
    "# Dataframe head  \n",
    "import pandas as pd\n",
    "\n",
    "file = '../data/raw/ENB2012_data.csv'\n",
    "df = pd.read_csv(file)\n",
    "print(df.shape)\n",
    "df.head()"
   ]
  },
  {
   "cell_type": "code",
   "execution_count": 2,
   "metadata": {},
   "outputs": [
    {
     "data": {
      "image/png": "[encoded data removed]",
      "text/plain": [
       "<matplotlib.figure.Figure at 0x7fb70c612d30>"
      ]
     },
     "metadata": {},
     "output_type": "display_data"
    }
   ],
   "source": [
    "# The histograms of the ten numerical attributes\n",
    "from matplotlib import pyplot as plt\n",
    "%matplotlib inline\n",
    "plt.figure(figsize=(15,6.5))\n",
    "for i, column in enumerate(df.columns):\n",
    "    ax = plt.subplot(2,5,i+1)\n",
    "    ax.hist(df[column]);\n",
    "    ax.set_title(column)\n",
    "plt.savefig(\"../figures/features_histogram.png\")"
   ]
  },
  {
   "cell_type": "markdown",
   "metadata": {},
   "source": [
    "\\newpage"
   ]
  },
  {
   "cell_type": "markdown",
   "metadata": {},
   "source": [
    "### Dataset preprocessing  {-}"
   ]
  },
  {
   "cell_type": "markdown",
   "metadata": {},
   "source": [
    "The values in the original dataset are all numerical. It is fine if a regression is needed. As one can see from the description in the table, the more discrete like features such as **orientation**, **glazing area** and **glazing area distribution** are to be converted to categorical features when doing classification. \n",
    "As of now, the regression problem is firsly considered. Thus only scaling (and normalization) are applied in the preprocessing step.  Also note that we preprocess all points the dataset. In the following steps we are supposed to split the dataset to training, cross-validation and testing set. After preprocessing, still ten features are left. "
   ]
  },
  {
   "cell_type": "code",
   "execution_count": 3,
   "metadata": {},
   "outputs": [],
   "source": [
    "# Since all the continues features are bounded in certain range, we use the MinMaxScaler for the features to\n",
    "# be proprocessed. Note that the values of feature \"X1\" and \"X7\" are already in the range of [0,1]\n",
    "# no proprocessing is needed for these two featurs. \n",
    "from sklearn.preprocessing import MinMaxScaler, StandardScaler"
   ]
  },
  {
   "cell_type": "code",
   "execution_count": 4,
   "metadata": {},
   "outputs": [
    {
     "data": {
      "text/html": [
       "<div>\n",
       "<style scoped>\n",
       "    .dataframe tbody tr th:only-of-type {\n",
       "        vertical-align: middle;\n",
       "    }\n",
       "\n",
       "    .dataframe tbody tr th {\n",
       "        vertical-align: top;\n",
       "    }\n",
       "\n",
       "    .dataframe thead th {\n",
       "        text-align: right;\n",
       "    }\n",
       "</style>\n",
       "<table border=\"1\" class=\"dataframe\">\n",
       "  <thead>\n",
       "    <tr style=\"text-align: right;\">\n",
       "      <th></th>\n",
       "      <th>X1</th>\n",
       "      <th>X2</th>\n",
       "      <th>X3</th>\n",
       "      <th>X4</th>\n",
       "      <th>X5</th>\n",
       "      <th>X6</th>\n",
       "      <th>X7</th>\n",
       "      <th>X8</th>\n",
       "      <th>Y1</th>\n",
       "      <th>Y2</th>\n",
       "    </tr>\n",
       "  </thead>\n",
       "  <tbody>\n",
       "    <tr>\n",
       "      <th>0</th>\n",
       "      <td>0.98</td>\n",
       "      <td>0.000000</td>\n",
       "      <td>0.285714</td>\n",
       "      <td>0.000000</td>\n",
       "      <td>1.0</td>\n",
       "      <td>0.000000</td>\n",
       "      <td>0.0</td>\n",
       "      <td>0.0</td>\n",
       "      <td>0.257212</td>\n",
       "      <td>0.280905</td>\n",
       "    </tr>\n",
       "    <tr>\n",
       "      <th>1</th>\n",
       "      <td>0.98</td>\n",
       "      <td>0.000000</td>\n",
       "      <td>0.285714</td>\n",
       "      <td>0.000000</td>\n",
       "      <td>1.0</td>\n",
       "      <td>0.333333</td>\n",
       "      <td>0.0</td>\n",
       "      <td>0.0</td>\n",
       "      <td>0.257212</td>\n",
       "      <td>0.280905</td>\n",
       "    </tr>\n",
       "    <tr>\n",
       "      <th>2</th>\n",
       "      <td>0.98</td>\n",
       "      <td>0.000000</td>\n",
       "      <td>0.285714</td>\n",
       "      <td>0.000000</td>\n",
       "      <td>1.0</td>\n",
       "      <td>0.666667</td>\n",
       "      <td>0.0</td>\n",
       "      <td>0.0</td>\n",
       "      <td>0.257212</td>\n",
       "      <td>0.280905</td>\n",
       "    </tr>\n",
       "    <tr>\n",
       "      <th>3</th>\n",
       "      <td>0.98</td>\n",
       "      <td>0.000000</td>\n",
       "      <td>0.285714</td>\n",
       "      <td>0.000000</td>\n",
       "      <td>1.0</td>\n",
       "      <td>1.000000</td>\n",
       "      <td>0.0</td>\n",
       "      <td>0.0</td>\n",
       "      <td>0.257212</td>\n",
       "      <td>0.280905</td>\n",
       "    </tr>\n",
       "    <tr>\n",
       "      <th>4</th>\n",
       "      <td>0.90</td>\n",
       "      <td>0.166667</td>\n",
       "      <td>0.428571</td>\n",
       "      <td>0.111111</td>\n",
       "      <td>1.0</td>\n",
       "      <td>0.000000</td>\n",
       "      <td>0.0</td>\n",
       "      <td>0.0</td>\n",
       "      <td>0.399838</td>\n",
       "      <td>0.468085</td>\n",
       "    </tr>\n",
       "  </tbody>\n",
       "</table>\n",
       "</div>"
      ],
      "text/plain": [
       "     X1        X2        X3        X4   X5        X6   X7   X8        Y1  \\\n",
       "0  0.98  0.000000  0.285714  0.000000  1.0  0.000000  0.0  0.0  0.257212   \n",
       "1  0.98  0.000000  0.285714  0.000000  1.0  0.333333  0.0  0.0  0.257212   \n",
       "2  0.98  0.000000  0.285714  0.000000  1.0  0.666667  0.0  0.0  0.257212   \n",
       "3  0.98  0.000000  0.285714  0.000000  1.0  1.000000  0.0  0.0  0.257212   \n",
       "4  0.90  0.166667  0.428571  0.111111  1.0  0.000000  0.0  0.0  0.399838   \n",
       "\n",
       "         Y2  \n",
       "0  0.280905  \n",
       "1  0.280905  \n",
       "2  0.280905  \n",
       "3  0.280905  \n",
       "4  0.468085  "
      ]
     },
     "execution_count": 4,
     "metadata": {},
     "output_type": "execute_result"
    }
   ],
   "source": [
    "minmax_scaler = MinMaxScaler()\n",
    "columns_minmax = ['X2','X3','X4','X5','X6','X8','Y1','Y2']\n",
    "minmax_scaler.fit(df[columns_minmax])\n",
    "df[columns_minmax] = minmax_scaler.transform(df[columns_minmax])\n",
    "df.head()"
   ]
  },
  {
   "cell_type": "code",
   "execution_count": 5,
   "metadata": {},
   "outputs": [],
   "source": [
    "df.to_csv(\"../data/processed/df_processed.csv\")"
   ]
  }
 ],
 "metadata": {
  "kernel_info": {
   "name": "python3"
  },
  "kernelspec": {
   "display_name": "Python 3",
   "language": "python",
   "name": "python3"
  },
  "language_info": {
   "codemirror_mode": {
    "name": "ipython",
    "version": 3
   },
   "file_extension": ".py",
   "mimetype": "text/x-python",
   "name": "python",
   "nbconvert_exporter": "python",
   "pygments_lexer": "ipython3",
   "version": "3.6.5"
  },
  "nteract": {
   "version": "0.15.0"
  }
 },
 "nbformat": 4,
 "nbformat_minor": 2
}
